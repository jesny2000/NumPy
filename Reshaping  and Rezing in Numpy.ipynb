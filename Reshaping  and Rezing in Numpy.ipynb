{
 "cells": [
  {
   "cell_type": "code",
   "execution_count": 8,
   "id": "fca91730-ff22-4c95-b6c2-4c70e0979b9d",
   "metadata": {},
   "outputs": [
    {
     "name": "stdout",
     "output_type": "stream",
     "text": [
      "[[ 1  2  3  4]\n",
      " [ 5  6  7  8]\n",
      " [ 9 10 11 12]\n",
      " [13 14 15 16]]\n",
      "[[ 1  2  3  4  5  6  7  8]\n",
      " [ 9 10 11 12 13 14 15 16]]\n"
     ]
    }
   ],
   "source": [
    "import numpy as np\n",
    "array=np.array ([1,2,3,4,5,6,7,8,9,10,11,12,13,14,15,16])\n",
    "n=array.size\n",
    "reshaped1=array.reshape((4,4))\n",
    "reshaped2=np.reshape(array,(2,8))\n",
    "print(reshaped1)\n",
    "print(reshaped2)"
   ]
  },
  {
   "cell_type": "code",
   "execution_count": 11,
   "id": "97850282-a96c-40a7-9aab-9f2d9f638677",
   "metadata": {},
   "outputs": [
    {
     "data": {
      "text/plain": [
       "array([[[ 1,  2,  3,  4],\n",
       "        [ 5,  6,  7,  8]],\n",
       "\n",
       "       [[ 9, 10, 11, 12],\n",
       "        [13, 14, 15, 16]]])"
      ]
     },
     "execution_count": 11,
     "metadata": {},
     "output_type": "execute_result"
    }
   ],
   "source": [
    "array=np.array ([1,2,3,4,5,6,7,8,9,10,11,12,13,14,15,16])\n",
    "reshaped=array.reshape(2,2,4)\n",
    "reshaped"
   ]
  },
  {
   "cell_type": "code",
   "execution_count": 12,
   "id": "200e43bf-0a12-4ee2-b586-1c4a3c7ced6a",
   "metadata": {},
   "outputs": [
    {
     "data": {
      "text/plain": [
       "array([[1, 2, 3],\n",
       "       [4, 5, 6]])"
      ]
     },
     "execution_count": 12,
     "metadata": {},
     "output_type": "execute_result"
    }
   ],
   "source": [
    "gf=np.array([1,2,3,4,5,6])\n",
    "gf.resize(2,3)\n",
    "gf"
   ]
  },
  {
   "cell_type": "code",
   "execution_count": 17,
   "id": "14982f67-44c5-41cb-aa9c-23e711aa91d5",
   "metadata": {},
   "outputs": [
    {
     "data": {
      "text/plain": [
       "array([[1, 2, 3, 4],\n",
       "       [7, 6, 5, 0],\n",
       "       [0, 0, 0, 0]])"
      ]
     },
     "execution_count": 17,
     "metadata": {},
     "output_type": "execute_result"
    }
   ],
   "source": [
    "gf=np.array([1,2,3,4,7,6,5])\n",
    "gf.resize(3,4)\n",
    "# if the there is no number to be filled it will fill with 0s\n",
    "gf"
   ]
  },
  {
   "cell_type": "code",
   "execution_count": 18,
   "id": "02434708-757b-43e7-ba56-5f33dd3f7891",
   "metadata": {},
   "outputs": [
    {
     "name": "stdout",
     "output_type": "stream",
     "text": [
      "[[1 2 3]\n",
      " [4 5 6]\n",
      " [7 8 9]]\n",
      "[1 2 3 4 5 6 7 8 9]\n"
     ]
    }
   ],
   "source": [
    "array=np.array ([1,2,3,4,5,6,7,8,9])\n",
    "reshaped=array.reshape((3,3))\n",
    "print(reshaped)\n",
    "flatted=reshaped.flatten()\n",
    "print(flatted)"
   ]
  },
  {
   "cell_type": "code",
   "execution_count": 20,
   "id": "0182f01f-c48a-43d9-8b97-292780bdedcf",
   "metadata": {},
   "outputs": [
    {
     "data": {
      "text/plain": [
       "[array([1, 2, 3]), array([4, 5]), array([6, 7])]"
      ]
     },
     "execution_count": 20,
     "metadata": {},
     "output_type": "execute_result"
    }
   ],
   "source": [
    "arr=np.array([1,2,3,4,5,6,7])\n",
    "array=np.array_split(arr,3)\n",
    "array"
   ]
  },
  {
   "cell_type": "code",
   "execution_count": null,
   "id": "8f355e1f-a039-459c-88fc-f352d20ff558",
   "metadata": {},
   "outputs": [],
   "source": []
  }
 ],
 "metadata": {
  "kernelspec": {
   "display_name": "Python 3 (ipykernel)",
   "language": "python",
   "name": "python3"
  },
  "language_info": {
   "codemirror_mode": {
    "name": "ipython",
    "version": 3
   },
   "file_extension": ".py",
   "mimetype": "text/x-python",
   "name": "python",
   "nbconvert_exporter": "python",
   "pygments_lexer": "ipython3",
   "version": "3.12.7"
  }
 },
 "nbformat": 4,
 "nbformat_minor": 5
}
