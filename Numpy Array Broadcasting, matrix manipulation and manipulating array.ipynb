{
 "cells": [
  {
   "cell_type": "code",
   "execution_count": 1,
   "id": "31894adc-7fe1-4c8b-b5bc-7f6aa57e71f4",
   "metadata": {},
   "outputs": [
    {
     "data": {
      "text/plain": [
       "array([[11, 12, 13],\n",
       "       [14, 15, 16]])"
      ]
     },
     "execution_count": 1,
     "metadata": {},
     "output_type": "execute_result"
    }
   ],
   "source": [
    "import numpy as np\n",
    "array=np.array([[1,2,3],[4,5,6]])\n",
    "scalar=10\n",
    "result=array+scalar\n",
    "result"
   ]
  },
  {
   "cell_type": "code",
   "execution_count": 6,
   "id": "48014c4f-b28a-459b-adc4-d0f08cccfa2f",
   "metadata": {},
   "outputs": [
    {
     "name": "stdout",
     "output_type": "stream",
     "text": [
      "[[ 9  9]\n",
      " [13 11]]\n",
      "[[-7 -5]\n",
      " [-5 -1]]\n",
      "[[0.125      0.28571429]\n",
      " [0.44444444 0.83333333]]\n",
      "[[ 8 14]\n",
      " [36 30]]\n"
     ]
    }
   ],
   "source": [
    "\n",
    "x=np.array([[1,2],[4,5]])\n",
    "y=np.array([[8,7],[9,6]])\n",
    "print(np.add(x,y))\n",
    "print(np.subtract(x,y))\n",
    "print(np.divide(x,y))\n",
    "print(np.multiply(x,y))"
   ]
  },
  {
   "cell_type": "code",
   "execution_count": 7,
   "id": "6936f144-9ce3-4f51-8cad-1eb7523d004d",
   "metadata": {},
   "outputs": [
    {
     "name": "stdout",
     "output_type": "stream",
     "text": [
      "[[ 8 14]\n",
      " [36 30]]\n",
      "[[26 19]\n",
      " [77 58]]\n"
     ]
    }
   ],
   "source": [
    "x=np.array([[1,2],[4,5]])\n",
    "y=np.array([[8,7],[9,6]])\n",
    "print(np.multiply(x,y))\n",
    "# dot operation is used to perform matrix multiplication\n",
    "print(np.dot(x,y))"
   ]
  },
  {
   "cell_type": "code",
   "execution_count": 10,
   "id": "050a67d0-e759-41f1-874d-c1ca831d5a42",
   "metadata": {},
   "outputs": [
    {
     "name": "stdout",
     "output_type": "stream",
     "text": [
      "[[1.         1.41421356]\n",
      " [2.         2.23606798]]\n",
      "30\n",
      "[17 13]\n",
      "[15 15]\n"
     ]
    }
   ],
   "source": [
    "x=np.array([[1,2],[4,5]])\n",
    "y=np.array([[8,7],[9,6]])\n",
    "print(np.sqrt(x))\n",
    "print(np.sum(y))\n",
    "print(np.sum(y,axis=0))\n",
    "# when axis is 0 it add coloumn vice and for axis=1 it add the rows\n",
    "print(np.sum(y,axis=1))"
   ]
  },
  {
   "cell_type": "code",
   "execution_count": null,
   "id": "74107f9d-f653-4948-b78e-788656c20a3b",
   "metadata": {},
   "outputs": [],
   "source": []
  }
 ],
 "metadata": {
  "kernelspec": {
   "display_name": "Python 3 (ipykernel)",
   "language": "python",
   "name": "python3"
  },
  "language_info": {
   "codemirror_mode": {
    "name": "ipython",
    "version": 3
   },
   "file_extension": ".py",
   "mimetype": "text/x-python",
   "name": "python",
   "nbconvert_exporter": "python",
   "pygments_lexer": "ipython3",
   "version": "3.13.6"
  }
 },
 "nbformat": 4,
 "nbformat_minor": 5
}
