{
 "cells": [
  {
   "cell_type": "code",
   "execution_count": 2,
   "id": "f447366c-0c0d-48fd-bb60-fe7cec07e8ed",
   "metadata": {},
   "outputs": [
    {
     "data": {
      "text/plain": [
       "array([  7,  77,  23, 130])"
      ]
     },
     "execution_count": 2,
     "metadata": {},
     "output_type": "execute_result"
    }
   ],
   "source": [
    "import numpy as np\n",
    "a= np.array([5,72,13,100])\n",
    "b= np.array([2,5,10,30])\n",
    "add_ans=np.add(a,b)\n",
    "add_ans"
   ]
  },
  {
   "cell_type": "code",
   "execution_count": 3,
   "id": "b840cf11-863b-468a-ab9d-197eea278e24",
   "metadata": {},
   "outputs": [
    {
     "data": {
      "text/plain": [
       "array([ 3, 67,  3, 70])"
      ]
     },
     "execution_count": 3,
     "metadata": {},
     "output_type": "execute_result"
    }
   ],
   "source": [
    "a= np.array([5,72,13,100])\n",
    "b= np.array([2,5,10,30])\n",
    "sub_ans=np.subtract(a,b)\n",
    "sub_ans"
   ]
  },
  {
   "cell_type": "code",
   "execution_count": 4,
   "id": "4a5a7c70-c2a6-4b1e-a794-7e8efd48d329",
   "metadata": {},
   "outputs": [
    {
     "data": {
      "text/plain": [
       "array([  10,  360,  130, 3000])"
      ]
     },
     "execution_count": 4,
     "metadata": {},
     "output_type": "execute_result"
    }
   ],
   "source": [
    "a= np.array([5,72,13,100])\n",
    "b= np.array([2,5,10,30])\n",
    "mult_ans=np.multiply(a,b)\n",
    "mult_ans"
   ]
  },
  {
   "cell_type": "code",
   "execution_count": 5,
   "id": "d82ba805-f6b4-48f5-a59b-cda448d30fa5",
   "metadata": {},
   "outputs": [
    {
     "data": {
      "text/plain": [
       "array([ 2.5       , 14.4       ,  1.3       ,  3.33333333])"
      ]
     },
     "execution_count": 5,
     "metadata": {},
     "output_type": "execute_result"
    }
   ],
   "source": [
    "a= np.array([5,72,13,100])\n",
    "b= np.array([2,5,10,30])\n",
    "div_ans=np.divide(a,b)\n",
    "div_ans"
   ]
  },
  {
   "cell_type": "code",
   "execution_count": 6,
   "id": "ff85d80c-608e-4af3-b668-694995b53c96",
   "metadata": {},
   "outputs": [
    {
     "data": {
      "text/plain": [
       "array([  25,   27,  100, 4096])"
      ]
     },
     "execution_count": 6,
     "metadata": {},
     "output_type": "execute_result"
    }
   ],
   "source": [
    "a= np.array([5,3,10,8])\n",
    "b= np.array([2,3,2,4])\n",
    "pow_ans=np.power(a,b)\n",
    "pow_ans"
   ]
  },
  {
   "cell_type": "code",
   "execution_count": 9,
   "id": "75849675-f4fa-4ff6-b58e-968019bbf53c",
   "metadata": {},
   "outputs": [
    {
     "data": {
      "text/plain": [
       "array([1, 3, 7, 3])"
      ]
     },
     "execution_count": 9,
     "metadata": {},
     "output_type": "execute_result"
    }
   ],
   "source": [
    "import numpy as np\n",
    "a= np.array([5,19,106,8])\n",
    "b= np.array([2,4,9,5])\n",
    "mod_ans=np.mod(a,b)\n",
    "mod_ans"
   ]
  },
  {
   "cell_type": "code",
   "execution_count": 30,
   "id": "b5f4f7dc-f231-4c13-ade8-6d4918370888",
   "metadata": {},
   "outputs": [
    {
     "name": "stdout",
     "output_type": "stream",
     "text": [
      "\n",
      " Sum of the arr: 32.6\n",
      "32\n",
      "32.6\n",
      "False\n",
      "True\n"
     ]
    },
    {
     "data": {
      "text/plain": [
       "dtype('float64')"
      ]
     },
     "execution_count": 30,
     "metadata": {},
     "output_type": "execute_result"
    }
   ],
   "source": [
    "arr=[20,2,.2,10.4]\n",
    "print(\"\\n Sum of the arr:\",np.sum(arr))\n",
    "sum_ans=np.sum(arr)\n",
    "print(np.sum(arr,dtype=np.uint8))\n",
    "print(np.sum(arr,dtype=np.float32))\n",
    "print(np.sum(arr).dtype==np.uint)\n",
    "print(np.sum(arr).dtype==np.float64)\n",
    "sum_ans.dtype"
   ]
  },
  {
   "cell_type": "code",
   "execution_count": 33,
   "id": "1a3c894e-f13d-4957-b11e-45a5338354dc",
   "metadata": {},
   "outputs": [
    {
     "name": "stdout",
     "output_type": "stream",
     "text": [
      "\n",
      " Sum of arr: 277\n",
      "[52 25 93 42 65]\n",
      "[120  73  84]\n",
      "[[52 25 93 42 65]]\n"
     ]
    }
   ],
   "source": [
    "arr=[[14,17,12,33,44],[15,6,27,8,17],[23,2,54,1,4]]\n",
    "print(\"\\n Sum of arr:\",np.sum(arr))\n",
    "print(np.sum(arr,axis=0))\n",
    "# axis=0 means it takes the sum of the elements in coloumn eg:here it takes the sum of 14+15+23=5\n",
    "print(np.sum(arr,axis=1))\n",
    "# axis=1 means it takes the sum of the elements in row eg:here it takes the sum of 14 +17+12+33+44=120\n",
    "print(np.sum(arr,axis=0,keepdims=True))\n",
    "# keepdims provide the same dimension as the input here it's in 2D"
   ]
  },
  {
   "cell_type": "code",
   "execution_count": 34,
   "id": "fb986d10-0f90-4565-addb-79b7b5d41024",
   "metadata": {},
   "outputs": [
    {
     "name": "stdout",
     "output_type": "stream",
     "text": [
      "arr [20, 2, 7, 1, 34]\n",
      "12.8\n"
     ]
    }
   ],
   "source": [
    "import numpy as np\n",
    "arr=[20,2,7,1,34]\n",
    "print(\"arr\",arr)\n",
    "print(np.mean(arr))"
   ]
  },
  {
   "cell_type": "code",
   "execution_count": 35,
   "id": "e4f43e27-0536-41ac-9dff-cc0a6e5914fd",
   "metadata": {},
   "outputs": [
    {
     "name": "stdout",
     "output_type": "stream",
     "text": [
      "[20  4 25  7 34]\n"
     ]
    }
   ],
   "source": [
    "a=[20,2,7,1,34]\n",
    "b=[12,4,25,7,5]\n",
    "num=np.maximum(a,b)\n",
    "print(num)"
   ]
  },
  {
   "cell_type": "code",
   "execution_count": 36,
   "id": "eb7e62fe-c83d-40ad-aeeb-23f8f633de86",
   "metadata": {},
   "outputs": [
    {
     "name": "stdout",
     "output_type": "stream",
     "text": [
      "[12  2  7  1  5]\n"
     ]
    }
   ],
   "source": [
    "a=[20,2,7,1,34]\n",
    "b=[12,4,25,7,5]\n",
    "num=np.minimum(a,b)\n",
    "print(num)"
   ]
  },
  {
   "cell_type": "code",
   "execution_count": null,
   "id": "78d13214-c72b-4f54-b84e-8ec1cd5e88d5",
   "metadata": {},
   "outputs": [],
   "source": []
  }
 ],
 "metadata": {
  "kernelspec": {
   "display_name": "Python 3 (ipykernel)",
   "language": "python",
   "name": "python3"
  },
  "language_info": {
   "codemirror_mode": {
    "name": "ipython",
    "version": 3
   },
   "file_extension": ".py",
   "mimetype": "text/x-python",
   "name": "python",
   "nbconvert_exporter": "python",
   "pygments_lexer": "ipython3",
   "version": "3.13.6"
  }
 },
 "nbformat": 4,
 "nbformat_minor": 5
}
