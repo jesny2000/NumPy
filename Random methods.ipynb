{
 "cells": [
  {
   "cell_type": "code",
   "execution_count": 7,
   "id": "d09a7a98-0050-42d7-bdfe-f23d49e71668",
   "metadata": {},
   "outputs": [
    {
     "name": "stdout",
     "output_type": "stream",
     "text": [
      "85\n"
     ]
    }
   ],
   "source": [
    "# import numpy as np\n",
    "from numpy import random\n",
    "x=random.randint(100)\n",
    "print(x)"
   ]
  },
  {
   "cell_type": "code",
   "execution_count": 9,
   "id": "87a84e9a-b872-4eb6-84f0-b1440b59f8ad",
   "metadata": {},
   "outputs": [
    {
     "data": {
      "text/plain": [
       "0.5333673698373028"
      ]
     },
     "execution_count": 9,
     "metadata": {},
     "output_type": "execute_result"
    }
   ],
   "source": [
    "x=random.rand()\n",
    "x"
   ]
  },
  {
   "cell_type": "code",
   "execution_count": 11,
   "id": "d6fcd70f-8611-414c-854e-24c76ae32c1c",
   "metadata": {},
   "outputs": [
    {
     "data": {
      "text/plain": [
       "array([12,  6, 37, 81, 75], dtype=int32)"
      ]
     },
     "execution_count": 11,
     "metadata": {},
     "output_type": "execute_result"
    }
   ],
   "source": [
    "x=random.randint(100,size=(5))\n",
    "x"
   ]
  },
  {
   "cell_type": "code",
   "execution_count": 12,
   "id": "196c3fce-e777-48a2-adda-8ffacb9f51e2",
   "metadata": {},
   "outputs": [
    {
     "name": "stdout",
     "output_type": "stream",
     "text": [
      "[[38 95 99 91 47]\n",
      " [51 48 45 70 22]\n",
      " [98  9 86  9 99]]\n"
     ]
    }
   ],
   "source": [
    "x=random.randint(100,size=(3,5))\n",
    "print(x)"
   ]
  },
  {
   "cell_type": "code",
   "execution_count": 13,
   "id": "60a175d4-494d-4493-b85d-dea3c308b218",
   "metadata": {},
   "outputs": [
    {
     "data": {
      "text/plain": [
       "array([0.03228657, 0.0839662 , 0.08179554, 0.79759519, 0.85838369])"
      ]
     },
     "execution_count": 13,
     "metadata": {},
     "output_type": "execute_result"
    }
   ],
   "source": [
    "x=random.rand(5)\n",
    "x"
   ]
  },
  {
   "cell_type": "code",
   "execution_count": 73,
   "id": "db971170-2eee-49f1-9b11-22dacb32600a",
   "metadata": {},
   "outputs": [
    {
     "name": "stdout",
     "output_type": "stream",
     "text": [
      "9\n"
     ]
    }
   ],
   "source": [
    "x=random.choice([3,5,7,9])\n",
    "print(x)"
   ]
  },
  {
   "cell_type": "code",
   "execution_count": 32,
   "id": "54077d07-aebc-4f1c-a48c-f6ff752ad395",
   "metadata": {},
   "outputs": [
    {
     "name": "stdout",
     "output_type": "stream",
     "text": [
      "[[5 3 9 9]\n",
      " [5 7 5 5]]\n"
     ]
    }
   ],
   "source": [
    "from numpy import random\n",
    "x=random.choice([3,5,7,9,5,6], size=(2,4))\n",
    "# it takes random 4 elemens from array here the dimenssion given as 2 so 2D array\n",
    "print(x)"
   ]
  },
  {
   "cell_type": "code",
   "execution_count": 45,
   "id": "ac3aa974-b6fe-476a-a91c-75fbe8068eec",
   "metadata": {},
   "outputs": [
    {
     "name": "stdout",
     "output_type": "stream",
     "text": [
      "395\n",
      "777\n",
      "865\n",
      "865\n"
     ]
    }
   ],
   "source": [
    "import random\n",
    "for i in range(2):\n",
    "    print(random.randint(1,1000))\n",
    "for i in range (2):\n",
    "    random.seed(0)\n",
    "    print(random.randint(1,1000))"
   ]
  },
  {
   "cell_type": "code",
   "execution_count": 41,
   "id": "f9c742ad-3238-4056-a1ed-69ef1483ab5a",
   "metadata": {},
   "outputs": [
    {
     "name": "stdout",
     "output_type": "stream",
     "text": [
      "[3 5 1 4 2]\n"
     ]
    }
   ],
   "source": [
    "arr=np.array([1,2,3,4,5])\n",
    "np.random.shuffle(arr)\n",
    "print(arr)"
   ]
  },
  {
   "cell_type": "code",
   "execution_count": 39,
   "id": "065d9cdc-9fe7-4fae-a85f-ecf10693e883",
   "metadata": {},
   "outputs": [
    {
     "name": "stdout",
     "output_type": "stream",
     "text": [
      "[1 2 3 4 5]\n",
      "[3 1 4 2 5]\n",
      "[1 2 0 3 4]\n"
     ]
    }
   ],
   "source": [
    "arr=np.array([1,2,3,4,5])\n",
    "permuted_arr=np.random.permutation(arr)\n",
    "print(arr)\n",
    "print(permuted_arr)\n",
    "shuffle_range=np.random.permutation(5)\n",
    "print(shuffle_range)"
   ]
  },
  {
   "cell_type": "code",
   "execution_count": 69,
   "id": "94005eb1-ce4f-48f0-9c31-f2151b31b140",
   "metadata": {},
   "outputs": [
    {
     "name": "stdout",
     "output_type": "stream",
     "text": [
      "7\n",
      "1\n",
      "5\n",
      "9\n",
      "8\n",
      "7\n",
      "7\n",
      "7\n",
      "7\n",
      "7\n"
     ]
    }
   ],
   "source": [
    "import random\n",
    "for i in range(5):\n",
    "    print(random.randint(1,10))\n",
    "for i in range (5):\n",
    "    random.seed(0)\n",
    "    print(random.randint(1,10))"
   ]
  },
  {
   "cell_type": "code",
   "execution_count": null,
   "id": "e6e68dee-d7dd-41df-b2c9-5d95b6fcb424",
   "metadata": {},
   "outputs": [],
   "source": []
  }
 ],
 "metadata": {
  "kernelspec": {
   "display_name": "Python 3 (ipykernel)",
   "language": "python",
   "name": "python3"
  },
  "language_info": {
   "codemirror_mode": {
    "name": "ipython",
    "version": 3
   },
   "file_extension": ".py",
   "mimetype": "text/x-python",
   "name": "python",
   "nbconvert_exporter": "python",
   "pygments_lexer": "ipython3",
   "version": "3.13.6"
  }
 },
 "nbformat": 4,
 "nbformat_minor": 5
}
