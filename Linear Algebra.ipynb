{
 "cells": [
  {
   "cell_type": "code",
   "execution_count": 2,
   "id": "f478112f-e995-4897-a573-008b683ec6eb",
   "metadata": {},
   "outputs": [
    {
     "data": {
      "text/plain": [
       "array([[17, 10],\n",
       "       [77, 46]])"
      ]
     },
     "execution_count": 2,
     "metadata": {},
     "output_type": "execute_result"
    }
   ],
   "source": [
    "import numpy as np\n",
    "p=[[1,2],[5,8]]\n",
    "q=[[9,6,],[4,2]]\n",
    "dot_ans=np.dot(p,q)\n",
    "dot_ans"
   ]
  },
  {
   "cell_type": "code",
   "execution_count": 3,
   "id": "013ce78d-692a-41a7-b3e0-3a8298a9c94b",
   "metadata": {},
   "outputs": [
    {
     "name": "stdout",
     "output_type": "stream",
     "text": [
      "[[1, 2], [5, 8], [9, 11]]\n",
      "[[9, 6, 8], [4, 2, 3]]\n"
     ]
    },
    {
     "data": {
      "text/plain": [
       "array([[ 17,  10,  14],\n",
       "       [ 77,  46,  64],\n",
       "       [125,  76, 105]])"
      ]
     },
     "execution_count": 3,
     "metadata": {},
     "output_type": "execute_result"
    }
   ],
   "source": [
    "p=[[1,2],[5,8],[9,11]]\n",
    "q=[[9,6,8],[4,2,3]]\n",
    "print(p)\n",
    "print(q)\n",
    "dot_ans=np.dot(p,q)\n",
    "dot_ans"
   ]
  },
  {
   "cell_type": "code",
   "execution_count": 5,
   "id": "453200d3-879d-41f0-8f65-74ce3f9c4c91",
   "metadata": {},
   "outputs": [
    {
     "data": {
      "text/plain": [
       "array([[1, 4],\n",
       "       [2, 5],\n",
       "       [3, 6]])"
      ]
     },
     "execution_count": 5,
     "metadata": {},
     "output_type": "execute_result"
    }
   ],
   "source": [
    "matrix=np.array([[1,2,3],[4,5,6]])\n",
    "transpose_matrix=matrix.T\n",
    "transpose_matrix"
   ]
  },
  {
   "cell_type": "code",
   "execution_count": 7,
   "id": "320eea08-be49-4bb5-9386-13d80e856e6c",
   "metadata": {},
   "outputs": [
    {
     "data": {
      "text/plain": [
       "array([[-0.33333333, -0.33333333,  0.33333333],\n",
       "       [-1.33333333,  1.66666667, -0.66666667],\n",
       "       [ 1.33333333, -1.        ,  0.33333333]])"
      ]
     },
     "execution_count": 7,
     "metadata": {},
     "output_type": "execute_result"
    }
   ],
   "source": [
    "matrix=np.array([[1,2,3],[4,5,6],[8,7,9]])\n",
    "inverse_matrix=np.linalg.inv(matrix)\n",
    "inverse_matrix"
   ]
  },
  {
   "cell_type": "code",
   "execution_count": 8,
   "id": "51cf918a-5e84-444d-96be-c942141f121b",
   "metadata": {},
   "outputs": [
    {
     "name": "stdout",
     "output_type": "stream",
     "text": [
      "Eigenvalues [-0.21699057  9.21699057]\n",
      "Eigenvectors [[-0.85427457 -0.23649365]\n",
      " [ 0.51982205 -0.97163304]]\n"
     ]
    }
   ],
   "source": [
    "p=np.array([[1,2],[5,8]])\n",
    "eigenvalues,eigenvectors=np.linalg.eig(p)\n",
    "print(\"Eigenvalues\",eigenvalues)\n",
    "print(\"Eigenvectors\",eigenvectors)"
   ]
  },
  {
   "cell_type": "code",
   "execution_count": 10,
   "id": "dc7e762d-eb83-4123-b9c8-3df97141f311",
   "metadata": {},
   "outputs": [
    {
     "name": "stdout",
     "output_type": "stream",
     "text": [
      "[1 4 0 0 0]\n"
     ]
    }
   ],
   "source": [
    "arr=np.array([1,4,-9,0,-3])\n",
    "result=np.where(arr<0,0,arr)\n",
    "print(result)"
   ]
  },
  {
   "cell_type": "code",
   "execution_count": 24,
   "id": "575dda2d-f641-4da0-9932-797983bedaa3",
   "metadata": {},
   "outputs": [
    {
     "name": "stdout",
     "output_type": "stream",
     "text": [
      "(array([3, 4]),)\n",
      "[25 30]\n"
     ]
    }
   ],
   "source": [
    "arr=np.array([10,15,20,25,30])\n",
    "indices=np.where(arr>20)\n",
    "print(indices)\n",
    "print(arr[indices])\n"
   ]
  },
  {
   "cell_type": "code",
   "execution_count": 25,
   "id": "c39c5f8c-f173-41b7-9990-2cd7fe1eb2eb",
   "metadata": {},
   "outputs": [
    {
     "data": {
      "text/plain": [
       "array([2, 3, 4, 5, 7])"
      ]
     },
     "execution_count": 25,
     "metadata": {},
     "output_type": "execute_result"
    }
   ],
   "source": [
    "arr=np.array([2,2,4,3,3,7,5,5])\n",
    "unique_elements=np.unique(arr)\n",
    "unique_elements"
   ]
  },
  {
   "cell_type": "code",
   "execution_count": 26,
   "id": "20765c02-3b60-43a8-ae51-989e08f7b4a5",
   "metadata": {},
   "outputs": [
    {
     "data": {
      "text/plain": [
       "array([1, 2, 3, 4, 5, 6, 7, 8, 9])"
      ]
     },
     "execution_count": 26,
     "metadata": {},
     "output_type": "execute_result"
    }
   ],
   "source": [
    "arr=np.array([8,2,4,1,3,9,7,6,5])\n",
    "sarr=np.sort(arr)\n",
    "sarr"
   ]
  },
  {
   "cell_type": "code",
   "execution_count": 34,
   "id": "d4730944-e77c-4c60-84b3-7aad09cb9bfe",
   "metadata": {},
   "outputs": [
    {
     "name": "stdout",
     "output_type": "stream",
     "text": [
      "isnan: False \n",
      "\n",
      "isnan: True \n",
      "\n"
     ]
    }
   ],
   "source": [
    "x = np.nan\n",
    "print(\"isnan:\", np.isnan(1),\"\\n\")\n",
    "print(\"isnan:\", np.isnan(x),\"\\n\")"
   ]
  },
  {
   "cell_type": "code",
   "execution_count": 36,
   "id": "5417e09e-7cb5-4472-8bdf-16bccba17711",
   "metadata": {},
   "outputs": [
    {
     "data": {
      "text/plain": [
       "array([False,  True,  True, False,  True])"
      ]
     },
     "execution_count": 36,
     "metadata": {},
     "output_type": "execute_result"
    }
   ],
   "source": [
    "arr1=np.array([8,2,4,1,3])\n",
    "list=[4,2,3]\n",
    "arr=np.isin(arr1,list)\n",
    "arr"
   ]
  },
  {
   "cell_type": "code",
   "execution_count": null,
   "id": "c94b07f8-169b-4769-9b8c-856c140cafcc",
   "metadata": {},
   "outputs": [],
   "source": []
  }
 ],
 "metadata": {
  "kernelspec": {
   "display_name": "Python 3 (ipykernel)",
   "language": "python",
   "name": "python3"
  },
  "language_info": {
   "codemirror_mode": {
    "name": "ipython",
    "version": 3
   },
   "file_extension": ".py",
   "mimetype": "text/x-python",
   "name": "python",
   "nbconvert_exporter": "python",
   "pygments_lexer": "ipython3",
   "version": "3.13.6"
  }
 },
 "nbformat": 4,
 "nbformat_minor": 5
}
